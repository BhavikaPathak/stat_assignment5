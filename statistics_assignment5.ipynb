{
 "cells": [
  {
   "cell_type": "markdown",
   "id": "c63abde0-9be2-4af4-b5be-6b946167e89c",
   "metadata": {},
   "source": [
    "#                                     ANSWER 1\n",
    "Estimation statistics, or simply estimation, is a data analysis framework that uses a combination of effect sizes, confidence intervals, precision planning, and meta-analysis to plan experiments, analyze data and interpret results\n",
    "\n",
    "A point estimate is a single value estimate of a parameter. For instance, a sample mean is a point estimate of a population mean.\n",
    "\n",
    "An interval estimate gives you a range of values where the parameter is expected to lie. A confidence interval is the most common type of interval estimate."
   ]
  },
  {
   "cell_type": "markdown",
   "id": "e23616df-4147-4f73-b37a-74e98f1411d7",
   "metadata": {},
   "source": [
    "#                                    ANSWER 2\n",
    "# The statistics module in python provides functions called stdev() and pstdev() to calculate the standard deviation of a sample dataset. The stdev() function in python only calculates the sample standard deviation whereas the pstdev() function calculates the population standard deviation."
   ]
  },
  {
   "cell_type": "code",
   "execution_count": 40,
   "id": "c2c94040-1b85-4b6f-a4bc-07862553e5e7",
   "metadata": {},
   "outputs": [],
   "source": [
    "import math\n",
    "\n",
    "def estimate_population_mean(sample_mean, sample_std_dev, sample_size):\n",
    "    standard_error = sample_std_dev / math.sqrt(sample_size)\n",
    "    confidence_level = 0.95\n",
    "    critical_value = stats.norm.ppf((1 + confidence_level) / 2)\n",
    "    margin_of_error = critical_value * standard_error\n",
    "    lower_bound = sample_mean - margin_of_error\n",
    "    upper_bound = sample_mean + margin_of_error\n",
    "    return lower_bound, upper_bound"
   ]
  },
  {
   "cell_type": "markdown",
   "id": "ea1602ec-7a64-4a55-80b3-c69312c887a1",
   "metadata": {},
   "source": [
    "#                                   ANSWER 3 \n",
    "Hypothesis testing is a systematic procedure for deciding whether the results of a research study support a particular theory which applies to a population. Hypothesis testing uses sample data to evaluate a hypothesis about a population\n",
    "\n",
    "Hypothesis testing is used to assess the plausibility of a hypothesis by using sample data.\n",
    "The test provides evidence concerning the plausibility of the hypothesis, given the data.\n",
    "Statistical analysts test a hypothesis by measuring and examining a random sample of the population being analyzed.\n",
    "\n",
    "Hypothesis testing allows the researcher to determine whether the data from the sample is statistically significant. \n",
    "Hypothesis testing is one of the most important processes for measuring the validity and reliability of outcomes in any systematic investigation. "
   ]
  },
  {
   "cell_type": "markdown",
   "id": "255360fa-3160-452b-b93c-34e0914c5a93",
   "metadata": {},
   "source": [
    "#                                      ANSWER 4\n",
    "Hypothesis:\n",
    "\n",
    "Null Hypothesis (H0): The average weight of male college students is less than or equal to the average weight of female college students.\n",
    "\n",
    "Alternative Hypothesis (Ha): The average weight of male college students is greater than the average weight of female college students."
   ]
  },
  {
   "cell_type": "markdown",
   "id": "a42271ac-e826-442b-9485-03e563f646a4",
   "metadata": {},
   "source": [
    "#                                          ANSWER 5"
   ]
  },
  {
   "cell_type": "code",
   "execution_count": 41,
   "id": "64c04219-9f8f-4337-a1fe-9563d1cd8678",
   "metadata": {},
   "outputs": [
    {
     "name": "stdout",
     "output_type": "stream",
     "text": [
      "t-statistic: 4.263945329558386\n",
      "p-value: 0.0027466438110852476\n",
      "Conclusion: Reject the null hypothesis\n"
     ]
    }
   ],
   "source": [
    "import numpy as np\n",
    "import scipy.stats as stats\n",
    "\n",
    "def two_sample_t_test(sample1, sample2, alpha=0.05, tails=2):\n",
    " \n",
    "    n1 = len(sample1)\n",
    "    n2 = len(sample2)\n",
    "    mean1 = np.mean(sample1)\n",
    "    mean2 = np.mean(sample2)\n",
    "    std_dev1 = np.std(sample1, ddof=1)\n",
    "    std_dev2 = np.std(sample2, ddof=1)\n",
    "    std_dev = np.sqrt(((n1 - 1) * std_dev1 ** 2 + (n2 - 1) * std_dev2 ** 2) / (n1 + n2 - 2))\n",
    "    \n",
    "    # t-statistic\n",
    "    t_statistic = (mean1 - mean2) / (std_dev * np.sqrt(1/n1 + 1/n2))\n",
    "\n",
    "    df = n1 + n2 - 2\n",
    "\n",
    "    critical_t = stats.t.ppf(1 - alpha / tails, df)\n",
    "\n",
    "    p_value = tails * (1 - stats.t.cdf(abs(t_statistic), df))\n",
    "\n",
    "    if p_value < alpha:\n",
    "        result = \"Reject the null hypothesis\"\n",
    "    else:\n",
    "        result = \"Fail to reject the null hypothesis\"\n",
    "    \n",
    "    return t_statistic, p_value, result\n",
    "sample1 = [82, 78, 85, 88, 76]\n",
    "sample2 = [70, 72, 68, 75, 71]\n",
    "\n",
    "t_stat, p_value, result = two_sample_t_test(sample1, sample2)\n",
    "print(\"t-statistic:\", t_stat)\n",
    "print(\"p-value:\", p_value)\n",
    "print(\"Conclusion:\", result)"
   ]
  },
  {
   "cell_type": "markdown",
   "id": "26057c19-1b75-47d9-aca2-b99acf9d0af4",
   "metadata": {},
   "source": [
    "#                                           ANSWER 6\n",
    "The null hypothesis (H0) is a statement of no effect or no difference, while the alternative hypothesis (Ha) is the statement we want to test or prove. They are set up as competing statements to assess the evidence in the data.\n",
    "\n",
    "## Examples:\n",
    "\n",
    "Null Hypothesis: There is no significant difference in test scores between two teaching methods.\n",
    "\n",
    "Alternative Hypothesis: The mean test scores of students taught using Method A are different from those taught using Method B.\n",
    "\n",
    "Null Hypothesis: The new website design does not lead to a higher conversion rate.\n",
    "\n",
    "Alternative Hypothesis: The new website design leads to a higher conversion rate than the old design."
   ]
  },
  {
   "cell_type": "markdown",
   "id": "4bb1187b-b07d-42c8-8b54-852a4e363c9b",
   "metadata": {},
   "source": [
    "# ANSWER 7\n",
    "The steps involved in hypothesis testing are as follows:\n",
    "1. State the Hypotheses:\n",
    "Formulate the null hypothesis (H0) and the alternative hypothesis (Ha) based on the research question.\n",
    "\n",
    "H0 represents the default assumption or no effect/difference.\n",
    "\n",
    "Ha represents the claim or effect/difference we want to test or prove.\n",
    "\n",
    "2. Set the Significance Level (α):\n",
    "Determine the level of significance (α), commonly set to 0.05 or 0.01.\n",
    "\n",
    "α represents the probability of making a Type I error (rejecting H0 when it is true).\n",
    "\n",
    "Choose a suitable level of α depending on the importance of making a correct decision and the consequences of Type I errors.\n",
    "\n",
    "3. Choose the Test Statistic:\n",
    "Select the appropriate statistical test based on the data type, research question, and assumptions of the data.\n",
    "\n",
    "Common tests include t-tests, z-tests, chi-square tests, ANOVA, etc.\n",
    "\n",
    "4. Collect Sample Data:\n",
    "Gather data from the population of interest to create a representative sample.\n",
    "\n",
    "Ensure the data collection process is unbiased and random to ensure the sample's validity.\n",
    "\n",
    "5. Calculate the Test Statistic:\n",
    "Calculate the test statistic based on the sample data and the chosen statistical test.\n",
    "\n",
    "The test statistic measures how far the sample estimate is from the null hypothesis.\n",
    "\n",
    "6. Determine the Critical Value or P-value:\n",
    "For critical value approach: Determine the critical value corresponding to the chosen significance level and degrees of freedom.\n",
    "\n",
    "For p-value approach: Calculate the p-value, which represents the probability of obtaining the observed results, or more extreme, assuming H0 is true.\n",
    "\n",
    "7. Make a Decision:\n",
    "Compare the test statistic to the critical value (for critical value approach) or compare the p-value to the significance level (α).\n",
    "\n",
    "If the test statistic falls in the critical region (beyond the critical value) or the p-value is less than α, reject the null hypothesis (favor Ha).\n",
    "\n",
    "If the test statistic does not fall in the critical region or the p-value is greater than or equal to α, fail to reject the null hypothesis.\n",
    "\n",
    "8. Interpret the Results:\n",
    "State the conclusion in the context of the problem and the data analysis.\n",
    "\n",
    "Be cautious about making claims of causation; hypothesis testing only provides evidence for or against a hypothesis, not causal relationships.\n",
    "\n",
    "9. Draw Inferences:\n",
    "If the null hypothesis is rejected, draw inferences about the population parameter based on the sample data and the alternative hypothesis.\n",
    "\n",
    "If the null hypothesis is not rejected, avoid making any strong conclusions about the population parameter.\n",
    "\n",
    "10. Communicate the Findings:\n",
    "Present the results, conclusions, and any limitations of the study clearly and accurately.\n",
    "\n",
    "Transparency in reporting the methods and results is crucial for the scientific community to evaluate and replicate the study."
   ]
  },
  {
   "cell_type": "markdown",
   "id": "c856aa7d-601a-480a-bab8-a5fc89776394",
   "metadata": {},
   "source": [
    "# ANSWER 8\n",
    "The p-value, short for \"probability value,\" is a crucial concept in hypothesis testing. It quantifies the strength of evidence against the null hypothesis (H0) provided by the sample data.\n",
    "## P-value significance in hypothesis testing : \n",
    "\n",
    "1. Hypothesis Testing Process:\n",
    "During hypothesis testing, we start with a null hypothesis (H0) that assumes no effect or no difference.\n",
    "We collect sample data and calculate a test statistic, which measures the discrepancy between the sample evidence and the null hypothesis.\n",
    "\n",
    "The p-value helps us assess how likely it is to observe the obtained test statistic under the assumption that H0 is true.\n",
    "\n",
    "2. Significance Level (α):\n",
    "Before collecting data, researchers pre-specify a significance level (α), typically set to 0.05 (5%) or 0.01 (1%).\n",
    "The significance level represents the threshold for rejecting H0.\n",
    "\n",
    "If the p-value is less than or equal to α, we have strong evidence against H0, and we reject it in favor of the alternative hypothesis (Ha).\n",
    "\n",
    "If the p-value is greater than α, we fail to reject H0, meaning there is insufficient evidence to support Ha.\n",
    "\n",
    "3. Interpretation of p-value:\n",
    "A low p-value (typically less than the chosen significance level) suggests that the observed results are unlikely to occur if H0 is true. It provides evidence in favor of Ha.\n",
    "\n",
    "A high p-value indicates that the observed results are reasonably likely under H0. In such cases, we do not have enough evidence to reject H0.\n",
    "\n",
    "4. Deciding on the Conclusion:\n",
    "If the p-value is less than or equal to α, we reject H0 and conclude that there is sufficient evidence to support the alternative hypothesis.\n",
    "\n",
    "If the p-value is greater than α, we fail to reject H0, meaning the data does not provide enough evidence to conclude that the null hypothesis is false.\n",
    "\n",
    "5. Caution in Interpretation:\n",
    "A p-value only informs us about the strength of evidence in the sample data against H0; it does not prove that the null hypothesis is true or false.\n",
    "\n",
    "The p-value is not a direct measure of effect size, practical significance, or the probability of a hypothesis being true or false.\n",
    "\n",
    "6. Replication and Transparency:\n",
    "The p-value allows other researchers to replicate the study and evaluate its findings independently.\n",
    "\n",
    "Transparent reporting of p-values and methodology helps ensure the validity and reliability of research results."
   ]
  },
  {
   "cell_type": "markdown",
   "id": "0bfc0435-19aa-4b86-9c14-a569945a9c56",
   "metadata": {},
   "source": [
    "# ANSWER 9"
   ]
  },
  {
   "cell_type": "code",
   "execution_count": 42,
   "id": "a5b7b85a-b838-4337-885c-22bed778e4cb",
   "metadata": {},
   "outputs": [
    {
     "data": {
      "image/png": "[encoded data removed]",
      "text/plain": [
       "<Figure size 640x480 with 1 Axes>"
      ]
     },
     "metadata": {},
     "output_type": "display_data"
    }
   ],
   "source": [
    "import matplotlib.pyplot as plt\n",
    "import numpy as np\n",
    "from scipy.stats import t\n",
    "df = 10\n",
    "x = np.linspace(-5, 5, 1000)\n",
    "y = t.pdf(x, df)\n",
    "plt.plot(x, y, label='t-distribution with DOM = 10')\n",
    "plt.xlabel('x')\n",
    "plt.ylabel('Probability Density Function')\n",
    "plt.title('Student t-distribution')\n",
    "plt.legend()\n",
    "plt.grid(True)\n",
    "plt.show()"
   ]
  },
  {
   "cell_type": "markdown",
   "id": "4198af73-a87e-4e63-bfeb-3722ab334a4a",
   "metadata": {},
   "source": [
    "# ANSWER 10 "
   ]
  },
  {
   "cell_type": "code",
   "execution_count": 43,
   "id": "3ddbe82e-d60e-4937-88db-ef199be338fe",
   "metadata": {},
   "outputs": [],
   "source": [
    "import numpy as np\n",
    "from scipy.stats import ttest_ind\n",
    "\n",
    "def two_sample_t_test(sample1, sample2):\n",
    "    t_statistic, p_value = ttest_ind(sample1, sample2, equal_var=True)\n",
    "    return t_statistic, p_value"
   ]
  },
  {
   "cell_type": "code",
   "execution_count": 44,
   "id": "d73b46c0-ccf5-484b-8ab6-b6768b695ef6",
   "metadata": {},
   "outputs": [
    {
     "name": "stdout",
     "output_type": "stream",
     "text": [
      "t-statistic: 0.5345224838248482\n",
      "p-value: 0.6075112145767011\n"
     ]
    }
   ],
   "source": [
    "sample1 = np.array([12, 15, 18, 20, 22])\n",
    "sample2 = np.array([10, 14, 16, 19, 21])\n",
    "t_stat, p_value = two_sample_t_test(sample1, sample2)\n",
    "print(\"t-statistic:\", t_stat)\n",
    "print(\"p-value:\", p_value)"
   ]
  },
  {
   "cell_type": "code",
   "execution_count": 45,
   "id": "185838cb-1c60-43cc-bd6f-ec3d7fa6c083",
   "metadata": {},
   "outputs": [
    {
     "name": "stdout",
     "output_type": "stream",
     "text": [
      "Fail to reject the null hypothesis : There is no significant evidence that the population means are different.\n"
     ]
    }
   ],
   "source": [
    "alpha = 0.05\n",
    "if p_value < alpha:\n",
    "        print(\"Reject the null hypothesis : There is significant evidence that the population means are different.\")\n",
    "else: \n",
    "        print(\"Fail to reject the null hypothesis : There is no significant evidence that the population means are different.\")"
   ]
  },
  {
   "cell_type": "markdown",
   "id": "04556193-5b40-46d1-b203-58b4d45d03cf",
   "metadata": {},
   "source": [
    "# ANSWER 11\n",
    "Student's t-distribution is a probability distribution that is used in statistical inference when the sample size is small and the population standard deviation is unknown. \n",
    "\n",
    "The t-distribution is used when:\n",
    "1. The population standard deviation is unknown: When the population standard deviation is unknown, the sample standard deviation  used as an estimate, and the t-distribution accounts for the added uncertainty due to the estimation.\n",
    "2. The sample size is small: The t-distribution is particularly useful when the sample size is small (typically n < 30). For larger sample sizes (n ≥ 30), the t-distribution is nearly identical to the standard normal distribution."
   ]
  },
  {
   "cell_type": "markdown",
   "id": "a0af834e-b85e-4603-b41b-9d1396aae29b",
   "metadata": {},
   "source": [
    "# ANSWER 12\n",
    "The t-statistic is a value that measures how much the sample mean deviates from the hypothesized population mean in the t-distribution. It is used in hypothesis testing to determine whether there is a significant difference between sample means or if a sample mean is significantly different from a known population mean.\n",
    "\n",
    "Formula for t-statistic:\n",
    "\n",
    "For a one-sample t-test, the formula for the t-statistic is:\n",
    "\n",
    "t = (x̄ - μ) / (s / √n)\n",
    "\n",
    "Where:\n",
    "\n",
    "t: The t-statistic.\n",
    "x̄: The sample mean.\n",
    "μ: The hypothesized population mean under the null hypothesis.\n",
    "s: The sample standard deviation.\n",
    "n: The sample size."
   ]
  },
  {
   "cell_type": "markdown",
   "id": "30277469-fcb2-49e7-87ed-3d1092e5d2fd",
   "metadata": {},
   "source": [
    "# ANSWER 13"
   ]
  },
  {
   "cell_type": "code",
   "execution_count": 46,
   "id": "7e5fcbea-50d7-4da5-b459-52a5be042bf7",
   "metadata": {},
   "outputs": [
    {
     "name": "stdout",
     "output_type": "stream",
     "text": [
      "The 95% confidence interval for the population mean revenue is: $ 485.79015724388137 , $ 514.2098427561186\n"
     ]
    }
   ],
   "source": [
    "import scipy.stats as stats\n",
    "sample_mean = 500\n",
    "sample_std_dev = 50\n",
    "sample_size = 50\n",
    "confidence_level = 0.95\n",
    "#critical value from the t-distribution\n",
    "critical_value = stats.t.ppf((1 + confidence_level) / 2, df=sample_size - 1)\n",
    "#the margin of error\n",
    "margin_of_error = critical_value * (sample_std_dev / (sample_size ** 0.5))\n",
    "\n",
    "# Calculate the 95% confidence interval\n",
    "lower_bound = sample_mean - margin_of_error\n",
    "upper_bound = sample_mean + margin_of_error\n",
    "\n",
    "print(\"The 95% confidence interval for the population mean revenue is:\",\"$\",lower_bound,\", $\",upper_bound)"
   ]
  },
  {
   "cell_type": "markdown",
   "id": "013ce403-bf35-4816-9e3b-d022b1a5f4ba",
   "metadata": {},
   "source": [
    "# ANSWER 14"
   ]
  },
  {
   "cell_type": "code",
   "execution_count": 47,
   "id": "62fd0fd8-0c33-44b7-9478-19925e0168d9",
   "metadata": {},
   "outputs": [
    {
     "name": "stdout",
     "output_type": "stream",
     "text": [
      "Fail to reject the null hypothesis:There is no significant evidence of the drug's effect on blood pressure.\n"
     ]
    }
   ],
   "source": [
    "sample_mean = 8\n",
    "hypothesized_mean = 10\n",
    "sample_std_dev = 3\n",
    "sample_size = 100\n",
    "significance_level = 0.05\n",
    "\n",
    "# the t-statistic\n",
    "t_statistic = (sample_mean - hypothesized_mean) / (sample_std_dev / (sample_size ** 0.5))\n",
    "\n",
    "#critical value from the t-distribution\n",
    "critical_value = stats.t.ppf(significance_level, df=sample_size - 1)\n",
    "# Perform the hypothesis test\n",
    "if t_statistic > critical_value:\n",
    "    print(\"Reject the null hypothesis:The drug has a significant effect on decreasing blood pressure.\")\n",
    "else:\n",
    "    print(\"Fail to reject the null hypothesis:There is no significant evidence of the drug's effect on blood pressure.\")"
   ]
  },
  {
   "cell_type": "markdown",
   "id": "cfcba5ac-e824-4096-a3f4-34fb2ea52cad",
   "metadata": {},
   "source": [
    "# ANSWER 15"
   ]
  },
  {
   "cell_type": "code",
   "execution_count": 48,
   "id": "5d48ec7a-10dc-45dd-bccf-4f687d44c080",
   "metadata": {},
   "outputs": [
    {
     "name": "stdout",
     "output_type": "stream",
     "text": [
      "Fail to reject the null hypothesis:There is no significant evidence that the true mean weight is less than 5 pounds.\n"
     ]
    }
   ],
   "source": [
    "sample_mean = 4.8\n",
    "hypothesized_mean = 5\n",
    "sample_std_dev = 0.5\n",
    "sample_size = 25\n",
    "significance_level = 0.01\n",
    "\n",
    "t_statistic = (sample_mean - hypothesized_mean) / (sample_std_dev / (sample_size ** 0.5))\n",
    "\n",
    "critical_value = stats.t.ppf(significance_level, df=sample_size - 1)\n",
    "\n",
    "if t_statistic < critical_value:\n",
    "    print(\"Reject the null hypothesis:There is significant evidence that the true mean weight is less than 5 pounds.\")\n",
    "else:\n",
    "    print(\"Fail to reject the null hypothesis:There is no significant evidence that the true mean weight is less than 5 pounds.\")"
   ]
  },
  {
   "cell_type": "markdown",
   "id": "6ab27feb-41d2-404a-b6e4-00e9031e76ec",
   "metadata": {},
   "source": [
    "# ANSWER 16"
   ]
  },
  {
   "cell_type": "code",
   "execution_count": 49,
   "id": "5c3b4c12-7307-4ee5-9ccf-1c7caa260555",
   "metadata": {},
   "outputs": [
    {
     "name": "stdout",
     "output_type": "stream",
     "text": [
      "Fail to reject the null hypothesis:There is no significant evidence that the population means are different.\n"
     ]
    }
   ],
   "source": [
    "sample_mean1 = 80\n",
    "sample_std_dev1 = 10\n",
    "sample_size1 = 30\n",
    "\n",
    "sample_mean2 = 75\n",
    "sample_std_dev2 = 8\n",
    "sample_size2 = 40\n",
    "\n",
    "significance_level = 0.01\n",
    "\n",
    "std_dev = ((sample_size1 - 1) * sample_std_dev1 ** 2 + (sample_size2 - 1) * sample_std_dev2 ** 2) / (sample_size1 + sample_size2 - 2)\n",
    "std_dev = std_dev ** 0.5\n",
    "\n",
    "# Calculate the t-statistic\n",
    "t_statistic = (sample_mean1 - sample_mean2) / (std_dev * ((1 / sample_size1) + (1 / sample_size2)) ** 0.5)\n",
    "\n",
    "# Calculate the critical value from the t-distribution\n",
    "critical_value = stats.t.ppf(1 - significance_level / 2, df=sample_size1 + sample_size2 - 2)\n",
    "\n",
    "# the hypothesis test\n",
    "if (t_statistic) > critical_value:\n",
    "    print(\"Reject the null hypothesis:There is significant evidence that the population means are different.\")\n",
    "else:\n",
    "    print(\"Fail to reject the null hypothesis:There is no significant evidence that the population means are different.\")"
   ]
  },
  {
   "cell_type": "markdown",
   "id": "4cc9cdfc-6f7a-4229-a48f-189a96ce9cf4",
   "metadata": {},
   "source": [
    "# ANSWER 17"
   ]
  },
  {
   "cell_type": "code",
   "execution_count": 50,
   "id": "c6496e46-c94d-4a6a-b1eb-8369dee1fe19",
   "metadata": {},
   "outputs": [
    {
     "name": "stdout",
     "output_type": "stream",
     "text": [
      "The 99% confidence interval for the population mean number of ads watched is: 3.4314963358572577 , 4.568503664142742\n"
     ]
    }
   ],
   "source": [
    "sample_mean = 4\n",
    "sample_std_dev = 1.5\n",
    "sample_size = 50\n",
    "confidence_level = 0.99\n",
    "\n",
    "# the critical value from the t-distribution\n",
    "critical_value = stats.t.ppf((1 + confidence_level) / 2, df=sample_size - 1)\n",
    "\n",
    "# the margin of error\n",
    "margin_of_error = critical_value * (sample_std_dev / (sample_size ** 0.5))\n",
    "\n",
    "# Calculate the 99% confidence interval\n",
    "lower_bound = sample_mean - margin_of_error\n",
    "upper_bound = sample_mean + margin_of_error\n",
    "\n",
    "print(\"The 99% confidence interval for the population mean number of ads watched is:\" ,lower_bound,\",\",upper_bound)"
   ]
  },
  {
   "cell_type": "code",
   "execution_count": null,
   "id": "e8b72248-fa30-4e63-8bd0-b27bcc25bcbe",
   "metadata": {},
   "outputs": [],
   "source": []
  },
  {
   "cell_type": "code",
   "execution_count": null,
   "id": "6a8951d8-c22d-4677-af44-7b6f9381b963",
   "metadata": {},
   "outputs": [],
   "source": []
  },
  {
   "cell_type": "code",
   "execution_count": null,
   "id": "bc00171e-e2c2-4858-96f2-2794cf80178e",
   "metadata": {},
   "outputs": [],
   "source": []
  },
  {
   "cell_type": "code",
   "execution_count": null,
   "id": "30033eab-66a1-4d1b-90f3-9da3242b7de3",
   "metadata": {},
   "outputs": [],
   "source": []
  },
  {
   "cell_type": "code",
   "execution_count": null,
   "id": "e94b49e1-f264-4109-9cdb-c97acd411dab",
   "metadata": {},
   "outputs": [],
   "source": []
  }
 ],
 "metadata": {
  "kernelspec": {
   "display_name": "Python 3 (ipykernel)",
   "language": "python",
   "name": "python3"
  },
  "language_info": {
   "codemirror_mode": {
    "name": "ipython",
    "version": 3
   },
   "file_extension": ".py",
   "mimetype": "text/x-python",
   "name": "python",
   "nbconvert_exporter": "python",
   "pygments_lexer": "ipython3",
   "version": "3.10.8"
  }
 },
 "nbformat": 4,
 "nbformat_minor": 5
}
